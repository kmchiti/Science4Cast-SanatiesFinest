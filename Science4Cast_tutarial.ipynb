{
  "nbformat": 4,
  "nbformat_minor": 0,
  "metadata": {
    "colab": {
      "name": "Science4Cast_tutarial.ipynb",
      "provenance": [],
      "collapsed_sections": [],
      "include_colab_link": true
    },
    "kernelspec": {
      "name": "python3",
      "display_name": "Python 3"
    },
    "language_info": {
      "name": "python"
    },
    "accelerator": "GPU"
  },
  "cells": [
    {
      "cell_type": "markdown",
      "metadata": {
        "id": "view-in-github",
        "colab_type": "text"
      },
      "source": [
        "<a href=\"https://colab.research.google.com/github/kmchiti/EvolvGNN/blob/main/Science4Cast_tutarial.ipynb\" target=\"_parent\"><img src=\"https://colab.research.google.com/assets/colab-badge.svg\" alt=\"Open In Colab\"/></a>"
      ]
    },
    {
      "cell_type": "code",
      "metadata": {
        "id": "9Kcgpd-Yh_8r"
      },
      "source": [
        "\n",
        "import pickle\n",
        "import numpy as np\n",
        "import matplotlib.pyplot as plt"
      ],
      "execution_count": 31,
      "outputs": []
    },
    {
      "cell_type": "code",
      "metadata": {
        "colab": {
          "base_uri": "https://localhost:8080/"
        },
        "id": "s8UuaNoFAlVS",
        "outputId": "3b8e7e00-9477-45c2-ace5-629f07a37baf"
      },
      "source": [
        "from google.colab import drive\n",
        "drive.mount('/content/gdrive')"
      ],
      "execution_count": 12,
      "outputs": [
        {
          "output_type": "stream",
          "name": "stdout",
          "text": [
            "Drive already mounted at /content/gdrive; to attempt to forcibly remount, call drive.mount(\"/content/gdrive\", force_remount=True).\n"
          ]
        }
      ]
    },
    {
      "cell_type": "markdown",
      "metadata": {
        "id": "vKxkpy9ntaWB"
      },
      "source": [
        "## Play with Data"
      ]
    },
    {
      "cell_type": "code",
      "metadata": {
        "colab": {
          "base_uri": "https://localhost:8080/"
        },
        "id": "IFersSkkiGGg",
        "outputId": "2884561c-4187-43df-b504-b41277580bfb"
      },
      "source": [
        "root_path = '/content/gdrive/MyDrive/Colab Notebooks/Science4Cast/'\n",
        "NUM_OF_VERTICES=64719 # number of vertices of the semantic net\n",
        "\n",
        "data_source = root_path+'TrainSet2014_3.pkl'\n",
        "full_dynamic_graph_sparse,unconnected_vertex_pairs,year_start,years_delta = pickle.load( open( data_source, \"rb\" ) )\n",
        "\n",
        "print(data_source+' has '+str(len(full_dynamic_graph_sparse))+' edges between a total of '+str(NUM_OF_VERTICES)+ ' vertices.\\n\\n')\n",
        "print('The goal is to predict which of '+str(len(unconnected_vertex_pairs))+' unconnectedvertex-pairs\\nin unconnected_vertex_pairs will be connected until '+str(year_start+years_delta)+'.')\n",
        "\n"
      ],
      "execution_count": 32,
      "outputs": [
        {
          "output_type": "stream",
          "name": "stdout",
          "text": [
            "/content/gdrive/MyDrive/Colab Notebooks/Science4Cast/TrainSet2014_3.pkl has 2278611 edges between a total of 64719 vertices.\n",
            "\n",
            "\n",
            "The goal is to predict which of 1000000 unconnectedvertex-pairs\n",
            "in unconnected_vertex_pairs will be connected until 2017.\n"
          ]
        }
      ]
    },
    {
      "cell_type": "code",
      "metadata": {
        "colab": {
          "base_uri": "https://localhost:8080/"
        },
        "id": "Kmrme5O3iYzg",
        "outputId": "cf02032f-01cb-477d-8d1c-722db7e4ea08"
      },
      "source": [
        "import random\n",
        "\n",
        "random.seed(42)\n",
        "print('Type of full_dynamic_graph_sparse: ', type(full_dynamic_graph_sparse))\n",
        "print('\\nExample edges:')\n",
        "for idx in random.sample(range(len(full_dynamic_graph_sparse)), 5):\n",
        "    print('Edge in semantic Net (edge #'+str(idx)+'): ', full_dynamic_graph_sparse[idx])\n",
        "    "
      ],
      "execution_count": 33,
      "outputs": [
        {
          "output_type": "stream",
          "name": "stdout",
          "text": [
            "Type of full_dynamic_graph_sparse:  <class 'numpy.ndarray'>\n",
            "\n",
            "Example edges:\n",
            "Edge in semantic Net (edge #466956):  [35266 36996  7758]\n",
            "Edge in semantic Net (edge #104902):  [32250 43887  6171]\n",
            "Edge in semantic Net (edge #1153556):  [32538 47489  8465]\n",
            "Edge in semantic Net (edge #1027150):  [13238 35059  8387]\n",
            "Edge in semantic Net (edge #936213):  [ 1298 33622  8311]\n"
          ]
        }
      ]
    },
    {
      "cell_type": "code",
      "metadata": {
        "id": "O5xGFexfto5H"
      },
      "source": [
        "creation_time = np.unique(full_dynamic_graph_sparse[:,2])\n",
        "def node_until_time(t = 5):\n",
        "  time_slap = full_dynamic_graph_sparse[full_dynamic_graph_sparse[:,2]==creation_time[t]]\n",
        "  if(t>1):\n",
        "    res = np.concatenate((time_slap, node_until_time(t-1)))\n",
        "  else:\n",
        "    res = time_slap\n",
        "  return res\n"
      ],
      "execution_count": 34,
      "outputs": []
    },
    {
      "cell_type": "code",
      "metadata": {
        "colab": {
          "base_uri": "https://localhost:8080/",
          "height": 367
        },
        "id": "Zi9P09hFxdT7",
        "outputId": "8513edf4-42bc-4c09-de7a-97732280fa42"
      },
      "source": [
        "h = plt.figure(figsize=(14,5))\n",
        "plt.subplot(121)\n",
        "x = node_until_time(500)\n",
        "plt.hist(np.concatenate((x[:,0], x[:,1])))\n",
        "plt.xlabel(\"Nodes\")\n",
        "plt.ylabel(\"Degree\")\n",
        "plt.title(\"Until time 500\")\n",
        "plt.subplot(122)\n",
        "x = node_until_time(501)\n",
        "plt.hist(np.concatenate((x[:,0], x[:,1])))\n",
        "plt.xlabel(\"Nodes\")\n",
        "plt.ylabel(\"Degree\")\n",
        "plt.title(\"Until time 501\")"
      ],
      "execution_count": 35,
      "outputs": [
        {
          "output_type": "execute_result",
          "data": {
            "text/plain": [
              "Text(0.5, 1.0, 'Until time 501')"
            ]
          },
          "metadata": {},
          "execution_count": 35
        },
        {
          "output_type": "display_data",
          "data": {
            "image/png": "[encoded data removed]",
            "text/plain": [
              "<Figure size 1008x360 with 2 Axes>"
            ]
          },
          "metadata": {
            "needs_background": "light"
          }
        }
      ]
    },
    {
      "cell_type": "code",
      "metadata": {
        "colab": {
          "base_uri": "https://localhost:8080/",
          "height": 307
        },
        "id": "duEq23kmqxbb",
        "outputId": "b4ba7459-c743-48d7-fc96-1690f4285651"
      },
      "source": [
        "DegSum = []\n",
        "for i in np.unique(full_dynamic_graph_sparse[:,2]):\n",
        "  DegSum.append([i, len(full_dynamic_graph_sparse[full_dynamic_graph_sparse[:,2]==i])])\n",
        "DegSum = np.array(DegSum)\n",
        "plt.plot(DegSum[:,0], np.cumsum(DegSum[:,1]))\n",
        "plt.xlabel(\"creation date\")\n",
        "plt.ylabel(\"Number of connected nodes\")"
      ],
      "execution_count": 36,
      "outputs": [
        {
          "output_type": "execute_result",
          "data": {
            "text/plain": [
              "Text(0, 0.5, 'Number of connected nodes')"
            ]
          },
          "metadata": {},
          "execution_count": 36
        },
        {
          "output_type": "display_data",
          "data": {
            "image/png": "[encoded data removed]",
            "text/plain": [
              "<Figure size 432x288 with 1 Axes>"
            ]
          },
          "metadata": {
            "needs_background": "light"
          }
        }
      ]
    },
    {
      "cell_type": "code",
      "metadata": {
        "colab": {
          "base_uri": "https://localhost:8080/"
        },
        "id": "VVAl7ZVxidQb",
        "outputId": "cef1840b-db34-4d28-e017-9e864feb6e1d"
      },
      "source": [
        "for idx in random.sample(range(len(unconnected_vertex_pairs)), 5):\n",
        "    print('Unconnected vertex pairs: ', unconnected_vertex_pairs[idx])\n",
        "    "
      ],
      "execution_count": 37,
      "outputs": [
        {
          "output_type": "stream",
          "name": "stdout",
          "text": [
            "Unconnected vertex pairs:  [22768 11701]\n",
            "Unconnected vertex pairs:  [13374  2149]\n",
            "Unconnected vertex pairs:  [18646  3268]\n",
            "Unconnected vertex pairs:  [12087 13432]\n",
            "Unconnected vertex pairs:  [14672  1739]\n"
          ]
        }
      ]
    },
    {
      "cell_type": "code",
      "metadata": {
        "colab": {
          "base_uri": "https://localhost:8080/"
        },
        "id": "2bHHdvDCkFUj",
        "outputId": "b10ea300-c586-4845-c501-38834aada3eb"
      },
      "source": [
        "from scipy import sparse\n",
        "import networkx as nx\n",
        "\n",
        "rnd_vertices=random.sample(range(100),50) # we use 50 random concepts\n",
        "\n",
        "full_idx0=[]\n",
        "full_idx1=[]\n",
        "for ii in range(len(rnd_vertices)): # here we will find all indices of edges where the concept is either the first or the second vertex\n",
        "    full_idx0=np.concatenate((full_idx0, np.where(full_dynamic_graph_sparse[:,0] == rnd_vertices[ii])[0]))\n",
        "    full_idx1=np.concatenate((full_idx1, np.where(full_dynamic_graph_sparse[:,1] == rnd_vertices[ii])[0]))\n",
        "\n",
        "all_idx=list(set(full_idx0) & set(full_idx1))\n",
        "\n",
        "subgraph_of_semnet=full_dynamic_graph_sparse[np.array(all_idx).astype(int)] # get the corresponding edge\n",
        "\n",
        "# These vertices have degree(v)>0, i.e. have at least one edge in the subgraph:\n",
        "rnd_vertices=list(set(list(subgraph_of_semnet[:,0])+list(subgraph_of_semnet[:,1])))\n",
        "print('Number of edges in the subgraph: ', len(subgraph_of_semnet))\n",
        "print('Number of non-zero degree vertices in the subgraph: ', len(rnd_vertices))\n",
        "\n",
        "print('For easier plotting, change names of vertices, from 0 to ', len(rnd_vertices))\n",
        "\n",
        "print('5 edges of previous list:')\n",
        "print(subgraph_of_semnet[0:5])\n",
        "print('\\n\\n')\n",
        "\n",
        "for ii in range(len(rnd_vertices)):\n",
        "    subgraph_of_semnet[:,0]=[ii if x==rnd_vertices[ii] else x for x in subgraph_of_semnet[:,0]]\n",
        "    subgraph_of_semnet[:,1]=[ii if x==rnd_vertices[ii] else x for x in subgraph_of_semnet[:,1]]\n",
        "\n",
        "print('5 edges of new list:')\n",
        "print(subgraph_of_semnet[0:5])"
      ],
      "execution_count": 38,
      "outputs": [
        {
          "output_type": "stream",
          "name": "stdout",
          "text": [
            "Number of edges in the subgraph:  288\n",
            "Number of non-zero degree vertices in the subgraph:  43\n",
            "For easier plotting, change names of vertices, from 0 to  43\n",
            "5 edges of previous list:\n",
            "[[  54   54 9067]\n",
            " [  54   54 8050]\n",
            " [  11   23 7732]\n",
            " [  11   75 8683]\n",
            " [   4   24 9114]]\n",
            "\n",
            "\n",
            "\n",
            "5 edges of new list:\n",
            "[[  24   24 9067]\n",
            " [  24   24 8050]\n",
            " [   4   10 7732]\n",
            " [   4   30 8683]\n",
            " [   2   11 9114]]\n"
          ]
        }
      ]
    },
    {
      "cell_type": "code",
      "metadata": {
        "colab": {
          "base_uri": "https://localhost:8080/"
        },
        "id": "Il9aW--P7Gkc",
        "outputId": "06b1193e-45ee-4466-f134-6e0d75949f8d"
      },
      "source": [
        "from datetime import date\n",
        "day_origin = date(1990,1,1)\n",
        "years=[2012,2013,2014]\n",
        "\n",
        "all_nx_nets=[]\n",
        "\n",
        "for yy in years:\n",
        "    print('Create Graph for ', yy)\n",
        "    day_curr=date(yy,12,31)\n",
        "    all_edges_curr=subgraph_of_semnet[subgraph_of_semnet[:,2]<(day_curr-day_origin).days]\n",
        "    adj_mat_sparse_curr = sparse.csr_matrix((np.ones(len(all_edges_curr)), (all_edges_curr[:,0], all_edges_curr[:,1])), shape=(len(rnd_vertices),len(rnd_vertices)))\n",
        "    print('Number of edges: ',adj_mat_sparse_curr.getnnz())\n",
        "    G_curr=nx.from_scipy_sparse_matrix(adj_mat_sparse_curr, parallel_edges=False, create_using=None, edge_attribute='weight')\n",
        "    \n",
        "    all_nx_nets.append(G_curr)"
      ],
      "execution_count": 39,
      "outputs": [
        {
          "output_type": "stream",
          "name": "stdout",
          "text": [
            "Create Graph for  2012\n",
            "Number of edges:  62\n",
            "Create Graph for  2013\n",
            "Number of edges:  92\n",
            "Create Graph for  2014\n",
            "Number of edges:  141\n"
          ]
        }
      ]
    },
    {
      "cell_type": "code",
      "metadata": {
        "colab": {
          "base_uri": "https://localhost:8080/",
          "height": 976
        },
        "id": "kUrxyLNvvpo0",
        "outputId": "59b1348a-7fd6-46b7-82f1-00af4ab990de"
      },
      "source": [
        "import matplotlib.pyplot as plt\n",
        "\n",
        "for idx in range(len(all_nx_nets)):\n",
        "    print('Network of the year ',years[idx])\n",
        "    curr_net=all_nx_nets[idx]\n",
        "    nx.draw(curr_net, pos=nx.spring_layout(curr_net), node_size=20)\n",
        "    plt.show()"
      ],
      "execution_count": 40,
      "outputs": [
        {
          "output_type": "stream",
          "name": "stdout",
          "text": [
            "Network of the year  2012\n"
          ]
        },
        {
          "output_type": "display_data",
          "data": {
            "image/png": "[encoded data removed]",
            "text/plain": [
              "<Figure size 432x288 with 1 Axes>"
            ]
          },
          "metadata": {}
        },
        {
          "output_type": "stream",
          "name": "stdout",
          "text": [
            "Network of the year  2013\n"
          ]
        },
        {
          "output_type": "display_data",
          "data": {
            "image/png": "[encoded data removed]",
            "text/plain": [
              "<Figure size 432x288 with 1 Axes>"
            ]
          },
          "metadata": {}
        },
        {
          "output_type": "stream",
          "name": "stdout",
          "text": [
            "Network of the year  2014\n"
          ]
        },
        {
          "output_type": "display_data",
          "data": {
            "image/png": "[encoded data removed]",
            "text/plain": [
              "<Figure size 432x288 with 1 Axes>"
            ]
          },
          "metadata": {}
        }
      ]
    },
    {
      "cell_type": "markdown",
      "metadata": {
        "id": "RSyq8281xC4c"
      },
      "source": [
        "# Baseline model"
      ]
    },
    {
      "cell_type": "markdown",
      "metadata": {
        "id": "huRXMgQPvzme"
      },
      "source": [
        "## Creating historic training data\n"
      ]
    },
    {
      "cell_type": "code",
      "metadata": {
        "colab": {
          "base_uri": "https://localhost:8080/"
        },
        "id": "u1zkB7A0vvdJ",
        "outputId": "f59c5cf0-7250-440b-f21d-f1003a5331af"
      },
      "source": [
        "import time\n",
        "\n",
        "\"\"\"\n",
        "set parameter Wedge to:\n",
        "  1 -> defult\n",
        "  2 -> older edges have more weights\n",
        "  3 -> newer  edges have more weights\n",
        "\"\"\"\n",
        "Wedge = 1\n",
        "\n",
        "def create_training_data(full_graph,year_start,years_delta,edges_used=500000,vertex_degree_cutoff=10):\n",
        "    \"\"\"\n",
        "    :param full_graph: Full graph, numpy array dim(n,3) [vertex 1, vertex 2, time stamp]\n",
        "    :param year_start: year of graph\n",
        "    :param years_delta: distance for prediction in years (prediction on graph of year_start+years_delta)\n",
        "    :param edges_used: optional filter to create a random subset of edges for rapid prototyping (default: 500,000)\n",
        "    :param vertex_degree_cutoff: optional filter, for vertices in training set having a minimal degree of at least vertex_degree_cutoff  (default: 10)\n",
        "    :return:\n",
        "\n",
        "    all_edge_list: graph of year_start, numpy array dim(n,2)\n",
        "    unconnected_vertex_pairs: potential edges for year_start+years_delta\n",
        "    unconnected_vertex_pairs_solution: numpy array with integers (0=unconnected, 1=connected), solution, length = len(unconnected_vertex_pairs)\n",
        "    \"\"\"\n",
        "\n",
        "    years=[year_start,year_start+years_delta]    \n",
        "    day_origin = date(1990,1,1)\n",
        "\n",
        "    all_G=[]\n",
        "    all_edge_lists=[]\n",
        "    all_sparse=[]\n",
        "    for yy in years:\n",
        "        print('    Create Graph for ', yy)\n",
        "        day_curr=date(yy,12,31)\n",
        "        all_edges_curr=full_graph[full_graph[:,2]<(day_curr-day_origin).days]\n",
        "        adj_mat_sparse_curr = sparse.csr_matrix((np.ones(len(all_edges_curr)), (all_edges_curr[:,0], all_edges_curr[:,1])), shape=(NUM_OF_VERTICES,NUM_OF_VERTICES))\n",
        "        G_curr=nx.from_scipy_sparse_matrix(adj_mat_sparse_curr, parallel_edges=False, create_using=None, edge_attribute='weight')\n",
        "\n",
        "        all_G.append(G_curr)\n",
        "        all_sparse.append(adj_mat_sparse_curr)\n",
        "        all_edge_lists.append(all_edges_curr)\n",
        "\n",
        "        print('    Done: Create Graph for ', yy)\n",
        "        print('    num of edges: ', G_curr.number_of_edges())\n",
        "\n",
        "    all_degs=np.array(all_sparse[0].sum(0))[0]\n",
        "\n",
        "    ## Create all edges to be predicted\n",
        "    all_vertices=np.array(range(NUM_OF_VERTICES))\n",
        "    vertex_large_degs=all_vertices[all_degs>=vertex_degree_cutoff] # use only vertices with degrees larger than 10.\n",
        "\n",
        "    unconnected_vertex_pairs=[]\n",
        "    unconnected_vertex_pairs_solution=[]\n",
        "\n",
        "    time_start=time.time()\n",
        "    while len(unconnected_vertex_pairs)<edges_used:        \n",
        "        v1,v2=random.sample(range(len(vertex_large_degs)), 2)\n",
        "\n",
        "        if v1!=v2 and not all_G[0].has_edge(v1,v2):\n",
        "            if len(unconnected_vertex_pairs)%10**6==0:\n",
        "                time_end=time.time()\n",
        "                print('    edge progress (',time_end-time_start,'sec): ',len(unconnected_vertex_pairs)/10**6,'M/',edges_used/10**6,'M')\n",
        "                time_start=time.time()\n",
        "            unconnected_vertex_pairs.append((v1,v2))\n",
        "            unconnected_vertex_pairs_solution.append(all_G[1].has_edge(v1,v2))\n",
        "\n",
        "        \n",
        "    print('Number of unconnected vertex pairs for prediction: ', len(unconnected_vertex_pairs_solution))\n",
        "    print('Number of vertex pairs that will be connected: ' , sum(unconnected_vertex_pairs_solution))\n",
        "    print('Ratio of vertex pairs that will be connected: ' , sum(unconnected_vertex_pairs_solution)/len(unconnected_vertex_pairs_solution))\n",
        "    \n",
        "    unconnected_vertex_pairs=np.array(unconnected_vertex_pairs)\n",
        "    unconnected_vertex_pairs_solution=np.array(list(map(int, unconnected_vertex_pairs_solution)))\n",
        "    all_edge_list=np.array(all_edge_lists[0])\n",
        "    \n",
        "    return all_edge_list, unconnected_vertex_pairs, unconnected_vertex_pairs_solution\n",
        "\n",
        "edges_used=1*10**6 # Best would be to use all vertices, to create more training data. But that takes long and requires huge amount of memory. So here we use a random subset.\n",
        "vertex_degree_cutoff=10\n",
        "train_dynamic_graph_sparse,train_edges_for_checking,train_edges_solution = create_training_data(full_dynamic_graph_sparse, year_start-years_delta, years_delta, edges_used=edges_used, vertex_degree_cutoff=vertex_degree_cutoff)\n",
        "\n",
        "day_origin = date(1990,1,1)\n",
        "years=[year_start-3,year_start-4,year_start-5]\n",
        "\n",
        "train_sparse=[]\n",
        "for yy in years:\n",
        "    print('    Create Graph for ', yy)\n",
        "    day_curr=date(yy,12,31)\n",
        "    train_edges_curr=train_dynamic_graph_sparse[train_dynamic_graph_sparse[:,2]<(day_curr-day_origin).days]\n",
        "\n",
        "    if(Wedge==1):\n",
        "      adj_mat_sparse_curr = sparse.csr_matrix((np.ones(len(train_edges_curr)), (train_edges_curr[:,0], train_edges_curr[:,1])), shape=(NUM_OF_VERTICES,NUM_OF_VERTICES))\n",
        "    \n",
        "    elif(Wedge==2):\n",
        "      time_step = train_edges_curr[:,2].max() + 1\n",
        "      x = time_step*np.ones(len(train_edges_curr)) - train_edges_curr[:,2]\n",
        "      adj_mat_sparse_curr = sparse.csr_matrix((x, (train_edges_curr[:,0], train_edges_curr[:,1])), shape=(NUM_OF_VERTICES,NUM_OF_VERTICES))\n",
        "    \n",
        "    elif(Wedge==3):\n",
        "      time_step = train_edges_curr[:,2].min() \n",
        "      x =  train_edges_curr[:,2] - time_step*np.ones(len(train_edges_curr))\n",
        "      adj_mat_sparse_curr = sparse.csr_matrix((x, (train_edges_curr[:,0], train_edges_curr[:,1])), shape=(NUM_OF_VERTICES,NUM_OF_VERTICES))\n",
        "\n",
        "      #x = (x - x.mean())/ x.std()\n",
        "      #x = x/ np.linalg.norm(x)\n",
        "\n",
        "    train_sparse.append(adj_mat_sparse_curr)\n",
        "print('done')"
      ],
      "execution_count": 41,
      "outputs": [
        {
          "output_type": "stream",
          "name": "stdout",
          "text": [
            "    Create Graph for  2011\n",
            "    Done: Create Graph for  2011\n",
            "    num of edges:  567750\n",
            "    Create Graph for  2014\n",
            "    Done: Create Graph for  2014\n",
            "    num of edges:  1843253\n",
            "    edge progress ( 8.177757263183594e-05 sec):  0.0 M/ 1.0 M\n",
            "Number of unconnected vertex pairs for prediction:  1000000\n",
            "Number of vertex pairs that will be connected:  329\n",
            "Ratio of vertex pairs that will be connected:  0.000329\n",
            "    Create Graph for  2011\n",
            "    Create Graph for  2010\n",
            "    Create Graph for  2009\n",
            "done\n"
          ]
        }
      ]
    },
    {
      "cell_type": "code",
      "metadata": {
        "colab": {
          "base_uri": "https://localhost:8080/"
        },
        "id": "e4x8Uuih7n8p",
        "outputId": "b5744d67-c28c-4fcc-97ac-01714ec47069"
      },
      "source": [
        "print(\"all_edge_list:\", train_dynamic_graph_sparse.shape)\n",
        "print(\"unconnected_vertex_pairs:\", train_edges_for_checking.shape, \"Sol:\", train_edges_solution.shape)\n",
        "print(\"\\n unconnected_vertex_pairs means some possible vertex pairs on validation data(2014)\\n that are not connected in train data(2011). in fact, its output of NN\")\n"
      ],
      "execution_count": 42,
      "outputs": [
        {
          "output_type": "stream",
          "name": "stdout",
          "text": [
            "all_edge_list: (651997, 3)\n",
            "unconnected_vertex_pairs: (1000000, 2) Sol: (1000000,)\n",
            "\n",
            " unconnected_vertex_pairs means some possible vertex pairs on validation data(2014)\n",
            " that are not connected in train data(2011). in fact, its output of NN\n"
          ]
        }
      ]
    },
    {
      "cell_type": "markdown",
      "metadata": {
        "id": "2yWQBiyTxBPm"
      },
      "source": [
        "## Training a baseline model"
      ]
    },
    {
      "cell_type": "code",
      "metadata": {
        "colab": {
          "base_uri": "https://localhost:8080/"
        },
        "id": "w3-AYiOxw_Y7",
        "outputId": "ff7b6da0-27cb-460a-e6da-859cc5005ba0"
      },
      "source": [
        "\n",
        "print('    Shuffle training data...')\n",
        "train_valid_test_size=[0.9, 0.1, 0.0]\n",
        "x = [i for i in range(len(train_edges_for_checking))]  # random shuffle input\n",
        "\n",
        "random.shuffle(x)\n",
        "train_edges_for_checking = train_edges_for_checking[x]\n",
        "train_edges_solution = train_edges_solution[x]\n",
        "\n",
        "print('    Split dataset...')\n",
        "idx_traintest=int(len(train_edges_for_checking)*train_valid_test_size[0])\n",
        "\n",
        "data_edges_train=train_edges_for_checking[0:idx_traintest]\n",
        "solution_train=train_edges_solution[0:idx_traintest]  \n",
        "\n",
        "data_edges_test=train_edges_for_checking[idx_traintest:]\n",
        "solution_test=train_edges_solution[idx_traintest:]\n",
        "\n",
        "print('Training, connected  : ',sum(solution_train==1))\n",
        "print('Training, unconnected: ',sum(solution_train==0))"
      ],
      "execution_count": 43,
      "outputs": [
        {
          "output_type": "stream",
          "name": "stdout",
          "text": [
            "    Shuffle training data...\n",
            "    Split dataset...\n",
            "Training, connected  :  272\n",
            "Training, unconnected:  899728\n"
          ]
        }
      ]
    },
    {
      "cell_type": "code",
      "metadata": {
        "colab": {
          "base_uri": "https://localhost:8080/"
        },
        "id": "WrV1Q6ElEnXl",
        "outputId": "e4565e70-8b91-4718-acec-7e30368a988f"
      },
      "source": [
        "print(\"Trainig data\", data_edges_train.shape, \"Training solution:\", solution_train.shape)\n",
        "print(\"Test data\", data_edges_test.shape, \"Test solution:\", solution_test.shape)"
      ],
      "execution_count": 44,
      "outputs": [
        {
          "output_type": "stream",
          "name": "stdout",
          "text": [
            "Trainig data (900000, 2) Training solution: (900000,)\n",
            "Test data (100000, 2) Test solution: (100000,)\n"
          ]
        }
      ]
    },
    {
      "cell_type": "markdown",
      "metadata": {
        "id": "h4AjIfzIze92"
      },
      "source": [
        "## Creating features\n",
        "\n",
        "Features:\n",
        "\n",
        "* degree of v1 and v2 in the current year (in validation 2011) and previous two years. (These are six properties)\n",
        "* number of shared neighbors in total of v1 and v2 in the current year (in validation 2011) and previous two years. (These are six properties)\n",
        "* number of shared neighbors between v1 and v2 in the current year (in validation 2011) and previous two years. (These are 3 properties)\n",
        "\n",
        "We only use about 1% of the unconnected examples for training, as computing features is expensive, and the two classes (connected vs unconnected) are very unevenly distributed."
      ]
    },
    {
      "cell_type": "code",
      "metadata": {
        "id": "uySAu-4R0DKM"
      },
      "source": [
        "# import scipy\n",
        "\n",
        "# def normalize_degree(adj):\n",
        "#   deg = np.power(np.squeeze(np.array((adj.sum(axis=1)))), -0.5)\n",
        "#   deg[np.isinf(deg)] = 0\n",
        "#   deg_inv_sq = scipy.sparse.diags(deg)\n",
        "#   adj = deg_inv_sq @ adj@  deg_inv_sq\n",
        "#   return adj\n",
        "# D = normalize_degree(train_sparse[0])"
      ],
      "execution_count": 45,
      "outputs": []
    },
    {
      "cell_type": "code",
      "metadata": {
        "colab": {
          "base_uri": "https://localhost:8080/"
        },
        "id": "Uv7pj8q0xP0s",
        "outputId": "6dad7030-48f1-400e-d5bc-810a4c13f589"
      },
      "source": [
        "import scipy\n",
        "\n",
        "def normalize_degree(adj):\n",
        "  deg = np.power(np.squeeze(np.array((adj.sum(axis=1)))), -0.5)\n",
        "  deg[np.isinf(deg)] = 0\n",
        "  deg_inv_sq = scipy.sparse.diags(deg)\n",
        "  adj = deg_inv_sq @ adj@  deg_inv_sq\n",
        "  return adj\n",
        "\n",
        "def compute_all_properties(all_sparse,AA02,AA12,AA22,all_degs0,all_degs1,all_degs2,all_degs02,all_degs12,all_degs22,v1,v2):\n",
        "    \"\"\"\n",
        "    Computes hand-crafted properties for one vertex in vlist\n",
        "    \"\"\"\n",
        "    all_properties=[]\n",
        "\n",
        "    all_properties.append(all_degs0[v1]) # 0\n",
        "    all_properties.append(all_degs0[v2]) # 1\n",
        "    all_properties.append(all_degs1[v1]) # 2\n",
        "    all_properties.append(all_degs1[v2]) # 3\n",
        "    all_properties.append(all_degs2[v1]) # 4\n",
        "    all_properties.append(all_degs2[v2]) # 5\n",
        "    all_properties.append(all_degs02[v1]) # 6\n",
        "    all_properties.append(all_degs02[v2]) # 7\n",
        "    all_properties.append(all_degs12[v1]) # 8\n",
        "    all_properties.append(all_degs12[v2]) # 9\n",
        "    all_properties.append(all_degs22[v1]) # 10\n",
        "    all_properties.append(all_degs22[v2]) # 11\n",
        "\n",
        "    all_properties.append(AA02[v1,v2]) # 12\n",
        "    all_properties.append(AA12[v1,v2]) # 13\n",
        "    all_properties.append(AA22[v1,v2]) # 14    \n",
        "\n",
        "    return all_properties\n",
        "\n",
        "\n",
        "\n",
        "def compute_all_properties_of_list(all_sparse,vlist):\n",
        "    \"\"\"\n",
        "    Computes hand-crafted properties for all vertices in vlist\n",
        "    \"\"\"\n",
        "    time_start=time.time()\n",
        "    #normalaize Adjnc matrix for each year(2009,2010,2011)\n",
        "    #all_sparse[0] = normalize_degree(all_sparse[0])\n",
        "    #all_sparse[1] = normalize_degree(all_sparse[1])\n",
        "    #all_sparse[2] = normalize_degree(all_sparse[2])\n",
        "\n",
        "\n",
        "    AA02=all_sparse[0]@all_sparse[0]\n",
        "    #lenghth = AA02.shape[0]\n",
        "    #jafar = scipy.sparse.ones((lenghth,lenghth)) - scipy.sparse.eye(lenghth)\n",
        "    #AA02 = AA02 * jafar\n",
        "    AA02 = AA02.tocoo()\n",
        "    AA02.data[AA02.row == AA02.col] = 0\n",
        "    AA02 = AA02.tocsr()\n",
        "    AA02=AA02/AA02.max()\n",
        "\n",
        "    AA12=all_sparse[1]@all_sparse[1]\n",
        "    AA12 = AA12.tocoo()\n",
        "    AA12.data[AA12.row == AA12.col] = 0\n",
        "    AA12 = AA12.tocsr()\n",
        "    AA12=AA12/AA12.max()\n",
        "\n",
        "    AA22=all_sparse[2]@all_sparse[2]\n",
        "    AA22 = AA22.tocoo()\n",
        "    AA22.data[AA22.row == AA22.col] = 0\n",
        "    AA22 = AA22.tocsr()    \n",
        "    AA22=AA22/AA22.max()\n",
        "    \n",
        "    all_degs0=np.array(all_sparse[0].sum(0))[0]\n",
        "    if np.max(all_degs0)>0:\n",
        "        all_degs0=all_degs0/np.max(all_degs0)\n",
        "        \n",
        "    all_degs1=np.array(all_sparse[1].sum(0))[0]\n",
        "    if np.max(all_degs1)>0:\n",
        "        all_degs1=all_degs1/np.max(all_degs1)\n",
        "    \n",
        "    all_degs2=np.array(all_sparse[2].sum(0))[0]\n",
        "    if np.max(all_degs2)>0:\n",
        "        all_degs2=all_degs2/np.max(all_degs2)\n",
        "\n",
        "    ##########################################\n",
        "\n",
        "    all_degs02=np.array(AA02.sum(0))[0]\n",
        "    if np.max(all_degs2)>0:\n",
        "        all_degs02=all_degs02/np.max(all_degs02)\n",
        "        \n",
        "    all_degs12=np.array(AA12.sum(0))[0]\n",
        "    if np.max(all_degs12)>0:\n",
        "        all_degs12=all_degs12/np.max(all_degs12)\n",
        "        \n",
        "    all_degs22=np.array(AA22.sum(0))[0]\n",
        "    if np.max(all_degs22)>0:\n",
        "        all_degs22=all_degs22/np.max(all_degs22)\n",
        "    \n",
        "    all_properties=[]\n",
        "    print('    Computed all matrix squares, ready to ruuuumbleeee...')\n",
        "    for ii in range(len(vlist)):\n",
        "        vals=compute_all_properties(all_sparse,\n",
        "                                    AA02,\n",
        "                                    AA12,\n",
        "                                    AA22,\n",
        "                                    all_degs0,\n",
        "                                    all_degs1,\n",
        "                                    all_degs2,\n",
        "                                    all_degs02,\n",
        "                                    all_degs12,\n",
        "                                    all_degs22,\n",
        "                                    vlist[ii][0],\n",
        "                                    vlist[ii][1])\n",
        "\n",
        "        all_properties.append(vals)\n",
        "        if ii%10**5==0:\n",
        "            print('compute features: (',time.time()-time_start,'sec) ',ii/10**6,'M/',len(vlist)/10**6,'M')\n",
        "            time_start=time.time()\n",
        "\n",
        "    return all_properties\n",
        "\n",
        "# Rather than using all connected and unconnected vertex pairs for training\n",
        "# (i.e. needing to compute their properties), we reject about 99% of all unconnected\n",
        "# examples, to have more examples of connected cases in the training. This significantly\n",
        "# speeds up the computation, at the price of precision.\n",
        "data_edges_train_smaller=[]\n",
        "solution_train_smaller=[]\n",
        "for ii in range(len(data_edges_train)):\n",
        "    if (solution_train[ii]==0 and random.random()<0.01) or solution_train[ii]==1:\n",
        "        data_edges_train_smaller.append(data_edges_train[ii])\n",
        "        solution_train_smaller.append(solution_train[ii])\n",
        "\n",
        "data_train=compute_all_properties_of_list(train_sparse,data_edges_train_smaller)\n",
        "\n",
        "data_train0=[]\n",
        "data_train1=[]\n",
        "for ii in range(len(data_edges_train_smaller)):\n",
        "    if solution_train_smaller[ii]==1:\n",
        "        data_train1.append(data_train[ii])\n",
        "    else:\n",
        "        data_train0.append(data_train[ii])\n",
        "\n",
        "data_test=compute_all_properties_of_list(train_sparse,data_edges_test)\n",
        "data_test0=[]\n",
        "data_test1=[]\n",
        "for ii in range(len(data_edges_test)):\n",
        "    if solution_test[ii]==1:\n",
        "        data_test1.append(data_test[ii])\n",
        "    else:\n",
        "        data_test0.append(data_test[ii])\n",
        "print('done')"
      ],
      "execution_count": 46,
      "outputs": [
        {
          "output_type": "stream",
          "name": "stdout",
          "text": [
            "    Computed all matrix squares, ready to ruuuumbleeee...\n",
            "compute features: ( 4.900857210159302 sec)  0.0 M/ 0.009245 M\n",
            "    Computed all matrix squares, ready to ruuuumbleeee...\n",
            "compute features: ( 4.873225688934326 sec)  0.0 M/ 0.1 M\n",
            "done\n"
          ]
        }
      ]
    },
    {
      "cell_type": "code",
      "metadata": {
        "colab": {
          "base_uri": "https://localhost:8080/",
          "height": 1000
        },
        "id": "Uru_Np3ZxTVd",
        "outputId": "4a829951-bbb2-4d91-ebbd-6fe85dd2f3fb"
      },
      "source": [
        "import torch\n",
        "from torch import nn\n",
        "\n",
        "class ff_network(nn.Module):\n",
        "\n",
        "    def __init__(self):\n",
        "        \"\"\"\n",
        "        Fully Connected layers\n",
        "        \"\"\"\n",
        "        super(ff_network, self).__init__()\n",
        "\n",
        "        self.semnet = nn.Sequential( # very small network for tests\n",
        "            nn.Linear(15, 100), # 15 properties\n",
        "            nn.ReLU(),\n",
        "            nn.Linear(100, 100), \n",
        "            nn.ReLU(),       \n",
        "            nn.Linear(100, 10),\n",
        "            nn.ReLU(),             \n",
        "            nn.Linear(10, 1)\n",
        "        )\n",
        "\n",
        "\n",
        "    def forward(self, x):\n",
        "        \"\"\"\n",
        "        Pass throught network\n",
        "        \"\"\"\n",
        "        res = self.semnet(x)\n",
        "\n",
        "        return res\n",
        "\n",
        "\n",
        "def train_model(model_semnet, data_train0, data_train1, data_test0, data_test1, lr_enc, batch_size):\n",
        "    \"\"\"\n",
        "    Training the neural network\n",
        "    \"\"\"    \n",
        "    \n",
        "    device = torch.device(\"cuda:0\" if torch.cuda.is_available() else \"cpu\")\n",
        "    size_of_loss_check=2000\n",
        "    \n",
        "    optimizer_predictor = torch.optim.Adam(model_semnet.parameters(), lr=lr_enc)\n",
        "    \n",
        "    data_train0=torch.tensor(data_train0, dtype=torch.float).to(device)\n",
        "    data_test0=torch.tensor(data_test0, dtype=torch.float).to(device)\n",
        "    \n",
        "    data_train1=torch.tensor(data_train1, dtype=torch.float).to(device)\n",
        "    data_test1=torch.tensor(data_test1, dtype=torch.float).to(device)\n",
        "\n",
        "    test_loss_total=[]\n",
        "    moving_avg=[]\n",
        "    #criterion = torch.nn.MSELoss()\n",
        "    criterion = torch.nn.BCEWithLogitsLoss()\n",
        "    \n",
        "    # There are much more vertex pairs that wont be connected (0) rather than ones\n",
        "    # that will be connected (1). However, we observed that training with an equally weighted\n",
        "    # training set (same number of examples for (0) and (1)) results in more stable training.\n",
        "    # (Imaging we have 1.000.000 nonconnected and 10.000 connected)\n",
        "    #\n",
        "    # For that reason, we dont have true 'episodes' (where each example from the training set\n",
        "    # has been used in the training). Rather, in each of our iteration, we sample batch_size\n",
        "    # random training examples from data_train0 and from data_train1.\n",
        "    \n",
        "    for iteration in range(10000): # should be much larger, with good early stopping criteria\n",
        "        model_semnet.train()\n",
        "        data_sets=[data_train0,data_train1]\n",
        "        total_loss=0\n",
        "        for idx_dataset in range(len(data_sets)):\n",
        "            idx = torch.randint(0, len(data_sets[idx_dataset]), (batch_size,))\n",
        "            data_train_samples = data_sets[idx_dataset][idx]\n",
        "            calc_properties = model_semnet(data_train_samples)\n",
        "            curr_pred=torch.tensor([idx_dataset] * batch_size, dtype=torch.float).to(device)\n",
        "            real_loss = criterion(calc_properties, curr_pred.unsqueeze(dim=1))\n",
        "            total_loss += torch.clamp(real_loss, min = 0., max = 50000.).double()\n",
        "\n",
        "        optimizer_predictor.zero_grad()\n",
        "        total_loss.backward()\n",
        "        optimizer_predictor.step()\n",
        "\n",
        "        # Evaluating the current quality.\n",
        "        with torch.no_grad():\n",
        "            model_semnet.eval()\n",
        "            # calculate train set\n",
        "            eval_datasets=[data_train0,data_train1,data_test0,data_test1]\n",
        "            all_real_loss=[]\n",
        "            for idx_dataset in range(len(eval_datasets)):\n",
        "                eval_datasets[idx_dataset]\n",
        "                calc_properties = model_semnet(eval_datasets[idx_dataset][0:size_of_loss_check])        \n",
        "                curr_pred=torch.tensor([idx_dataset%2] * len(eval_datasets[idx_dataset][0:size_of_loss_check]), dtype=torch.float).to(device)\n",
        "                real_loss = criterion(calc_properties, curr_pred.unsqueeze(dim=1))\n",
        "                all_real_loss.append(real_loss.detach().cpu().numpy())\n",
        "             \n",
        "            test_loss_total.append(np.mean(all_real_loss[2])+np.mean(all_real_loss[3]))\n",
        "\n",
        "            if iteration%50==0:\n",
        "                print(str(iteration)+' - train: ',np.mean(all_real_loss[0])+np.mean(all_real_loss[1]),'; test: ',np.mean(all_real_loss[2])+np.mean(all_real_loss[3]))\n",
        "\n",
        "\n",
        "            if len(test_loss_total)>200: # early stopping\n",
        "                test_loss_moving_avg=sum(test_loss_total[-50:])\n",
        "                moving_avg.append(test_loss_moving_avg)\n",
        "                if len(moving_avg)>10:\n",
        "                    if moving_avg[-1]>moving_avg[-2] and moving_avg[-1]>moving_avg[-10]:\n",
        "                        print('Early stopping kicked in')\n",
        "                        break\n",
        "\n",
        "    plt.plot(test_loss_total)\n",
        "    plt.show()\n",
        "    \n",
        "    plt.plot(test_loss_total[200:])\n",
        "    plt.show()    \n",
        "    \n",
        "    plt.plot(moving_avg)\n",
        "    plt.show()\n",
        "\n",
        "    return True\n",
        "\n",
        "device = torch.device(\"cuda:0\" if torch.cuda.is_available() else \"cpu\")\n",
        "model_semnet = ff_network().to(device)\n",
        "\n",
        "batch_size=100 # Large batch_size seems to be important\n",
        "lr_enc=5*10**-4\n",
        "\n",
        "model_semnet.train()\n",
        "train_model(model_semnet, data_train0, data_train1, data_test0, data_test1, lr_enc, batch_size)  \n",
        "print('done')"
      ],
      "execution_count": 47,
      "outputs": [
        {
          "output_type": "stream",
          "name": "stdout",
          "text": [
            "0 - train:  1.3863086 ; test:  1.3863084\n",
            "50 - train:  1.3862401 ; test:  1.386236\n",
            "100 - train:  1.3859465 ; test:  1.3859203\n",
            "150 - train:  1.3841311 ; test:  1.3839595\n",
            "200 - train:  1.3784587 ; test:  1.3777983\n",
            "250 - train:  1.3667915 ; test:  1.3651667\n",
            "300 - train:  1.3499016 ; test:  1.346518\n",
            "350 - train:  1.3284419 ; test:  1.3223921\n",
            "400 - train:  1.3085594 ; test:  1.2984688\n",
            "450 - train:  1.2834953 ; test:  1.2697291\n",
            "500 - train:  1.2645774 ; test:  1.2461796\n",
            "550 - train:  1.2486477 ; test:  1.2259047\n",
            "600 - train:  1.236725 ; test:  1.2085805\n",
            "650 - train:  1.2305796 ; test:  1.2042819\n",
            "700 - train:  1.2223387 ; test:  1.1934309\n",
            "750 - train:  1.2166822 ; test:  1.1849811\n",
            "Early stopping kicked in\n"
          ]
        },
        {
          "output_type": "display_data",
          "data": {
            "image/png": "[encoded data removed]",
            "text/plain": [
              "<Figure size 432x288 with 1 Axes>"
            ]
          },
          "metadata": {
            "needs_background": "light"
          }
        },
        {
          "output_type": "display_data",
          "data": {
            "image/png": "[encoded data removed]",
            "text/plain": [
              "<Figure size 432x288 with 1 Axes>"
            ]
          },
          "metadata": {
            "needs_background": "light"
          }
        },
        {
          "output_type": "display_data",
          "data": {
            "image/png": "[encoded data removed]",
            "text/plain": [
              "<Figure size 432x288 with 1 Axes>"
            ]
          },
          "metadata": {
            "needs_background": "light"
          }
        },
        {
          "output_type": "stream",
          "name": "stdout",
          "text": [
            "done\n"
          ]
        }
      ]
    },
    {
      "cell_type": "markdown",
      "metadata": {
        "id": "cTG2ytdexgs-"
      },
      "source": [
        "## Computing the metric"
      ]
    },
    {
      "cell_type": "code",
      "metadata": {
        "colab": {
          "base_uri": "https://localhost:8080/",
          "height": 566
        },
        "id": "cZ6EP855xjm8",
        "outputId": "494a00ae-6dca-4e0b-b3ac-77d06f1563ae"
      },
      "source": [
        "import warnings\n",
        "warnings.filterwarnings(\"ignore\", category=DeprecationWarning)\n",
        "\n",
        "if(Wedge==1):\n",
        "  print(\"Defult\")\n",
        "elif(Wedge==2):\n",
        "  print(\"Older edge are more important\")\n",
        "elif(Wedge==3):\n",
        "  print(\"Newer edge are more important\")\n",
        "\n",
        "def flatten(t):\n",
        "    return [item for sublist in t for item in sublist]\n",
        "\n",
        "def calculate_ROC(data_vertex_pairs,data_solution):\n",
        "    data_solution=np.array(data_solution)\n",
        "    data_vertex_pairs_sorted=data_solution[data_vertex_pairs]\n",
        "    \n",
        "    xpos=[0]\n",
        "    ypos=[0]\n",
        "    ROC_vals=[]\n",
        "    for ii in range(len(data_vertex_pairs_sorted)):\n",
        "        if data_vertex_pairs_sorted[ii]==1:\n",
        "            xpos.append(xpos[-1])\n",
        "            ypos.append(ypos[-1]+1)\n",
        "        if data_vertex_pairs_sorted[ii]==0:\n",
        "            xpos.append(xpos[-1]+1)\n",
        "            ypos.append(ypos[-1])      \n",
        "            ROC_vals.append(ypos[-1])\n",
        "    \n",
        "        # # # # # # # # # # # # # # # \n",
        "        # \n",
        "        # We normalize the ROC curve such that it starts at (0,0) and ends at (1,1).\n",
        "        # Then our final metric of interest is the Area under that curve.\n",
        "        # AUC is between [0,1].\n",
        "        # AUC = 0.5 is acchieved by random predictions\n",
        "        # AUC = 1.0 stands for perfect prediction.\n",
        "    \n",
        "    ROC_vals=np.array(ROC_vals)/max(ypos)\n",
        "    ypos=np.array(ypos)/max(ypos)\n",
        "    xpos=np.array(xpos)/max(xpos)\n",
        "    \n",
        "    plt.plot(xpos, ypos)\n",
        "    plt.show()\n",
        "    \n",
        "    AUC=sum(ROC_vals)/len(ROC_vals)\n",
        "    return AUC\n",
        "\n",
        "data_train=torch.tensor(data_train, dtype=torch.float).to(device)\n",
        "all_predictions_train=flatten(model_semnet(data_train).detach().cpu().numpy())\n",
        "sorted_predictions_train=np.flip(np.argsort(all_predictions_train,axis=0))    \n",
        "AUC_train=calculate_ROC(sorted_predictions_train, solution_train_smaller)\n",
        "print('    AUC_train: ', AUC_train)\n",
        "\n",
        "data_test=torch.tensor(data_test, dtype=torch.float).to(device)\n",
        "all_predictions_test=flatten(model_semnet(data_test).detach().cpu().numpy())\n",
        "sorted_predictions_test=np.flip(np.argsort(all_predictions_test,axis=0))    \n",
        "AUC_test=calculate_ROC(sorted_predictions_test, solution_test)\n",
        "print('    AUC_test: ', AUC_test)"
      ],
      "execution_count": 48,
      "outputs": [
        {
          "output_type": "stream",
          "name": "stdout",
          "text": [
            "Defult\n"
          ]
        },
        {
          "output_type": "display_data",
          "data": {
            "image/png": "[encoded data removed]",
            "text/plain": [
              "<Figure size 432x288 with 1 Axes>"
            ]
          },
          "metadata": {
            "needs_background": "light"
          }
        },
        {
          "output_type": "stream",
          "name": "stdout",
          "text": [
            "    AUC_train:  0.7623245553654108\n"
          ]
        },
        {
          "output_type": "display_data",
          "data": {
            "image/png": "[encoded data removed]",
            "text/plain": [
              "<Figure size 432x288 with 1 Axes>"
            ]
          },
          "metadata": {
            "needs_background": "light"
          }
        },
        {
          "output_type": "stream",
          "name": "stdout",
          "text": [
            "    AUC_test:  0.7867644206325433\n"
          ]
        }
      ]
    },
    {
      "cell_type": "markdown",
      "metadata": {
        "id": "xLgFZduXxpNL"
      },
      "source": [
        "## Evaluating Testset for Competition"
      ]
    },
    {
      "cell_type": "code",
      "metadata": {
        "colab": {
          "base_uri": "https://localhost:8080/"
        },
        "id": "bxu8uc95xtDH",
        "outputId": "5d0dea01-6408-4eb8-9347-e0b6588f9235"
      },
      "source": [
        "# Create properties for evaluation\n",
        "print('2) Makes predictions for '+str(year_start)+' -> '+str(year_start+3)+' data.')\n",
        "years=[year_start,year_start-1,year_start-2]\n",
        "\n",
        "print('2.1) Computes the 15 properties for the '+str(year_start)+' data.')\n",
        "eval_sparse=[]\n",
        "for yy in years:\n",
        "    print('    Create Graph for ', yy)\n",
        "    day_curr=date(yy,12,31)\n",
        "    eval_edges_curr=full_dynamic_graph_sparse[full_dynamic_graph_sparse[:,2]<(day_curr-day_origin).days]\n",
        "    adj_mat_sparse_curr = sparse.csr_matrix(\n",
        "                                            (np.ones(len(eval_edges_curr)), (eval_edges_curr[:,0], eval_edges_curr[:,1])),\n",
        "                                            shape=(NUM_OF_VERTICES,NUM_OF_VERTICES)\n",
        "                                           )\n",
        "\n",
        "    eval_sparse.append(adj_mat_sparse_curr)\n",
        "\n",
        "print('    compute all properties for evaluation')\n",
        "eval_examples=compute_all_properties_of_list(eval_sparse,unconnected_vertex_pairs)\n",
        "eval_examples=np.array(eval_examples)\n",
        "\n",
        "print('2.2) Uses the trained network to predict whether edges are created by '+str(year_start+3)+'.')\n",
        "eval_examples=torch.tensor(eval_examples, dtype=torch.float).to(device)\n",
        "all_predictions_eval=flatten(model_semnet(eval_examples).detach().cpu().numpy())\n",
        "\n",
        "print('3) Creates a sorted index list, from highest predicted vertex pair to least predicted one (sorted_predictions)')\n",
        "sorted_predictions_eval=np.flip(np.argsort(all_predictions_eval,axis=0))"
      ],
      "execution_count": null,
      "outputs": [
        {
          "output_type": "stream",
          "text": [
            "2) Makes predictions for 2014 -> 2017 data.\n",
            "2.1) Computes the 15 properties for the 2014 data.\n",
            "    Create Graph for  2014\n",
            "    Create Graph for  2013\n",
            "    Create Graph for  2012\n",
            "    compute all properties for evaluation\n",
            "    Computed all matrix squares, ready to ruuuumbleeee...\n",
            "compute features: ( 27.74684166908264 sec)  0.0 M/ 1.0 M\n",
            "compute features: ( 10.098329305648804 sec)  0.1 M/ 1.0 M\n",
            "compute features: ( 10.260680913925171 sec)  0.2 M/ 1.0 M\n",
            "compute features: ( 10.083306312561035 sec)  0.3 M/ 1.0 M\n",
            "compute features: ( 10.234050273895264 sec)  0.4 M/ 1.0 M\n",
            "compute features: ( 9.751564025878906 sec)  0.5 M/ 1.0 M\n",
            "compute features: ( 10.06593108177185 sec)  0.6 M/ 1.0 M\n",
            "compute features: ( 9.82743525505066 sec)  0.7 M/ 1.0 M\n",
            "compute features: ( 10.369754552841187 sec)  0.8 M/ 1.0 M\n",
            "compute features: ( 10.046702146530151 sec)  0.9 M/ 1.0 M\n",
            "2.2) Uses the trained network to predict whether edges are created by 2017.\n",
            "3) Creates a sorted index list, from highest predicted vertex pair to least predicted one (sorted_predictions)\n"
          ],
          "name": "stdout"
        }
      ]
    },
    {
      "cell_type": "code",
      "metadata": {
        "colab": {
          "base_uri": "https://localhost:8080/",
          "height": 335
        },
        "id": "dyj5zpNQx0Ti",
        "outputId": "39dc254a-244d-4246-d468-681360161eff"
      },
      "source": [
        "import json\n",
        "\n",
        "if year_start==2017:\n",
        "    # Save the results for submission.\n",
        "    submit_file=\"model_all_idx\"+str(year_start)+\"_\"+str(years_delta)+\".json\"\n",
        "    all_idx_list_float=list(map(float, all_idx))\n",
        "    with open(submit_file, \"w\", encoding=\"utf8\") as json_file:\n",
        "        json.dump(all_idx_list_float, json_file)\n",
        "    \n",
        "    print(\"Solution stored as \"+submit_file+\".\\nLooking forward to your submission.\")        \n",
        "\n",
        "else:\n",
        "    with open(root_path+'TrainSet2014_3_solution.pkl', \"rb\" ) as pkl_file:\n",
        "        unconnected_vertex_pairs_solution = pickle.load(pkl_file)\n",
        "    \n",
        "    AUC=calculate_ROC(sorted_predictions_eval, np.array(unconnected_vertex_pairs_solution))\n",
        "    print('Area Under Curve for Evaluation: ', AUC,'\\n\\n\\n')\n"
      ],
      "execution_count": null,
      "outputs": [
        {
          "output_type": "display_data",
          "data": {
            "image/png": "[encoded data removed]",
            "text/plain": [
              "<Figure size 432x288 with 1 Axes>"
            ]
          },
          "metadata": {
            "needs_background": "light"
          }
        },
        {
          "output_type": "stream",
          "text": [
            "Area Under Curve for Evaluation:  0.7236236854557452 \n",
            "\n",
            "\n",
            "\n"
          ],
          "name": "stdout"
        }
      ]
    },
    {
      "cell_type": "code",
      "metadata": {
        "id": "I-T1NuxW0bHu"
      },
      "source": [
        ""
      ],
      "execution_count": null,
      "outputs": []
    }
  ]
}